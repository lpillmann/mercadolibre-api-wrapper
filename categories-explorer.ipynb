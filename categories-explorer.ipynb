{
 "cells": [
  {
   "cell_type": "markdown",
   "metadata": {},
   "source": [
    "# Categories explorer\n",
    "This notebook aims to provide an easy way to navigate in ML's categories and find those which can be useful.  \n",
    "\n",
    "ML API requests require us to send **category_id** as parameter (e.g. MLB12345). This notebook helps digging into subcategories to find their IDs to be used in general queries and analyses."
   ]
  },
  {
   "cell_type": "code",
   "execution_count": 1,
   "metadata": {
    "collapsed": true
   },
   "outputs": [],
   "source": [
    "import mercadolibre as ml\n",
    "import pandas as pd"
   ]
  },
  {
   "cell_type": "markdown",
   "metadata": {},
   "source": [
    "## Main categories\n",
    "First, we print all \"high level\" categories provided by Mercado Livre (Brazil)."
   ]
  },
  {
   "cell_type": "code",
   "execution_count": 2,
   "metadata": {
    "collapsed": false
   },
   "outputs": [
    {
     "data": {
      "text/plain": [
       "[{'id': 'MLB5672', 'name': 'Acessórios para Veículos'},\n",
       " {'id': 'MLB1499', 'name': 'Agro, Indústria e Comércio'},\n",
       " {'id': 'MLB1071', 'name': 'Animais'},\n",
       " {'id': 'MLB1367', 'name': 'Antiguidades'},\n",
       " {'id': 'MLB1368', 'name': 'Arte e Artesanato'},\n",
       " {'id': 'MLB1384', 'name': 'Bebês'},\n",
       " {'id': 'MLB1132', 'name': 'Brinquedos e Hobbies'},\n",
       " {'id': 'MLB1430', 'name': 'Calçados, Roupas e Bolsas'},\n",
       " {'id': 'MLB1743', 'name': 'Carros, Motos e Outros'},\n",
       " {'id': 'MLB1574', 'name': 'Casa, Móveis e Decoração'},\n",
       " {'id': 'MLB1051', 'name': 'Celulares e Telefones'},\n",
       " {'id': 'MLB1798', 'name': 'Coleções e Comics'},\n",
       " {'id': 'MLB1039', 'name': 'Câmeras e Acessórios'},\n",
       " {'id': 'MLB5726', 'name': 'Eletrodomésticos'},\n",
       " {'id': 'MLB1000', 'name': 'Eletrônicos, Áudio e Vídeo'},\n",
       " {'id': 'MLB1276', 'name': 'Esportes e Fitness'},\n",
       " {'id': 'MLB3281', 'name': 'Filmes e Seriados'},\n",
       " {'id': 'MLB1144', 'name': 'Games'},\n",
       " {'id': 'MLB1459', 'name': 'Imóveis'},\n",
       " {'id': 'MLB1648', 'name': 'Informática'},\n",
       " {'id': 'MLB218519', 'name': 'Ingressos'},\n",
       " {'id': 'MLB1182', 'name': 'Instrumentos Musicais'},\n",
       " {'id': 'MLB3937', 'name': 'Joias e Relógios'},\n",
       " {'id': 'MLB1196', 'name': 'Livros'},\n",
       " {'id': 'MLB1168', 'name': 'Música'},\n",
       " {'id': 'MLB1246', 'name': 'Saúde e Beleza'},\n",
       " {'id': 'MLB1540', 'name': 'Serviços'},\n",
       " {'id': 'MLB1953', 'name': 'Mais Categorias'}]"
      ]
     },
     "execution_count": 2,
     "metadata": {},
     "output_type": "execute_result"
    }
   ],
   "source": [
    "categories = ml.get_categories()\n",
    "categories"
   ]
  },
  {
   "cell_type": "markdown",
   "metadata": {},
   "source": [
    "## Navigating into subcategories\n",
    "The following cells are \"manually\" navigating into lower levels categories. To navigate inside another category, change **`parent_category`** to desired category ID from previous list. Next, choose a subcategory ID from the ***printed output*** and plug into the next cell, and so on, until you find the desired subcategory to work with.  \n",
    "\n",
    "**Note:** each subcategory has an attribute **`total_items_in_this_category`** that can be useful to decide whether to proceed into next level or not.\n",
    "\n",
    "---\n",
    "Example:\n",
    "- **Esportes e Fitness (MLB1276)**\n",
    "    - Artes Marciais e Boxe (MLB2480)\n",
    "    - **Ciclismo (MLB1292)**\n",
    "        - Acessórios (MLB6790)\n",
    "        - **Bicicletas (MLB10345)**\n",
    "            - Bicicletas Adultos (MLB68268)\n",
    "                - Elétricas (Elétricas)\n",
    "                - (...)\n",
    "            - Bicicletas Infantis (MLB1929)\n",
    "            - (...)\n",
    "        - (...)\n",
    "    - Equitação (MLB223498)\n",
    "    - (...)\n",
    "\n",
    "---\n",
    "You can use the next cells as following:\n",
    "- Parent category\n",
    "    - **Subcategory level 1**\n",
    "        - Subcategory level 2\n",
    "            - Subcategory level 3\n",
    "                - (...)"
   ]
  },
  {
   "cell_type": "markdown",
   "metadata": {},
   "source": [
    "### Subcategory level 1"
   ]
  },
  {
   "cell_type": "code",
   "execution_count": 3,
   "metadata": {
    "collapsed": false
   },
   "outputs": [
    {
     "data": {
      "text/plain": [
       "[{'id': 'MLB2480',\n",
       "  'name': 'Artes Marciais e Boxe',\n",
       "  'total_items_in_this_category': 34030},\n",
       " {'id': 'MLB223366', 'name': 'Badminton', 'total_items_in_this_category': 461},\n",
       " {'id': 'MLB10539', 'name': 'Baseball', 'total_items_in_this_category': 1163},\n",
       " {'id': 'MLB1309', 'name': 'Basquete', 'total_items_in_this_category': 4738},\n",
       " {'id': 'MLB1362', 'name': 'Camping', 'total_items_in_this_category': 131311},\n",
       " {'id': 'MLB1292', 'name': 'Ciclismo', 'total_items_in_this_category': 272283},\n",
       " {'id': 'MLB223498', 'name': 'Equitação', 'total_items_in_this_category': 315},\n",
       " {'id': 'MLB1277',\n",
       "  'name': 'Esportes Aquáticos',\n",
       "  'total_items_in_this_category': 51352},\n",
       " {'id': 'MLB1355',\n",
       "  'name': 'Esportes de Aventura e Ação',\n",
       "  'total_items_in_this_category': 86532},\n",
       " {'id': 'MLB1338',\n",
       "  'name': 'Fitness e Musculação',\n",
       "  'total_items_in_this_category': 119752},\n",
       " {'id': 'MLB1286', 'name': 'Futebol', 'total_items_in_this_category': 186234},\n",
       " {'id': 'MLB1302',\n",
       "  'name': 'Futebol Americano',\n",
       "  'total_items_in_this_category': 3328},\n",
       " {'id': 'MLB9900', 'name': 'Golfe', 'total_items_in_this_category': 1565},\n",
       " {'id': 'MLB251434', 'name': 'Hockey', 'total_items_in_this_category': 116},\n",
       " {'id': 'MLB1293',\n",
       "  'name': 'Patins e Skates',\n",
       "  'total_items_in_this_category': 35846},\n",
       " {'id': 'MLB6796', 'name': 'Pesca', 'total_items_in_this_category': 126949},\n",
       " {'id': 'MLB80357',\n",
       "  'name': 'Protetores Esportivos',\n",
       "  'total_items_in_this_category': 17487},\n",
       " {'id': 'MLB122102',\n",
       "  'name': 'Suplementos',\n",
       "  'total_items_in_this_category': 239533},\n",
       " {'id': 'MLB3900', 'name': 'Tênis', 'total_items_in_this_category': 296942},\n",
       " {'id': 'MLB10536',\n",
       "  'name': 'Tênis de Mesa',\n",
       "  'total_items_in_this_category': 3324},\n",
       " {'id': 'MLB1322',\n",
       "  'name': 'Tênis e Squash',\n",
       "  'total_items_in_this_category': 14035},\n",
       " {'id': 'MLB1333', 'name': 'Vôlei', 'total_items_in_this_category': 2989},\n",
       " {'id': 'MLB1358', 'name': 'Outros', 'total_items_in_this_category': 11470}]"
      ]
     },
     "execution_count": 3,
     "metadata": {},
     "output_type": "execute_result"
    }
   ],
   "source": [
    "# Gets categories one level below\n",
    "parent_category = 'MLB1276'\n",
    "ml.get_children_categories(parent_category)"
   ]
  },
  {
   "cell_type": "markdown",
   "metadata": {},
   "source": [
    "### Subcategory level 2"
   ]
  },
  {
   "cell_type": "code",
   "execution_count": 4,
   "metadata": {
    "collapsed": false
   },
   "outputs": [
    {
     "data": {
      "text/plain": [
       "[{'id': 'MLB6790',\n",
       "  'name': 'Acessórios ',\n",
       "  'total_items_in_this_category': 93341},\n",
       " {'id': 'MLB180269',\n",
       "  'name': 'Bicicletas',\n",
       "  'total_items_in_this_category': 28078},\n",
       " {'id': 'MLB67974', 'name': 'DVDs', 'total_items_in_this_category': 772},\n",
       " {'id': 'MLB106739', 'name': 'Kit Motor', 'total_items_in_this_category': 529},\n",
       " {'id': 'MLB1934', 'name': 'Peças ', 'total_items_in_this_category': 112976},\n",
       " {'id': 'MLB1935', 'name': 'Roupas', 'total_items_in_this_category': 33043},\n",
       " {'id': 'MLB1936', 'name': 'Outros', 'total_items_in_this_category': 3547}]"
      ]
     },
     "execution_count": 4,
     "metadata": {},
     "output_type": "execute_result"
    }
   ],
   "source": [
    "ml.get_children_categories('MLB1292')"
   ]
  },
  {
   "cell_type": "markdown",
   "metadata": {},
   "source": [
    "### Subcategory level 3"
   ]
  },
  {
   "cell_type": "code",
   "execution_count": 5,
   "metadata": {
    "collapsed": false
   },
   "outputs": [
    {
     "data": {
      "text/plain": [
       "[{'id': 'MLB68268',\n",
       "  'name': 'Bicicletas Adultos',\n",
       "  'total_items_in_this_category': 22372},\n",
       " {'id': 'MLB1929',\n",
       "  'name': 'Bicicletas Infantis',\n",
       "  'total_items_in_this_category': 5703}]"
      ]
     },
     "execution_count": 5,
     "metadata": {},
     "output_type": "execute_result"
    }
   ],
   "source": [
    "ml.get_children_categories('MLB180269')"
   ]
  },
  {
   "cell_type": "markdown",
   "metadata": {},
   "source": [
    "### Subcategory level 4"
   ]
  },
  {
   "cell_type": "code",
   "execution_count": 6,
   "metadata": {
    "collapsed": false
   },
   "outputs": [
    {
     "data": {
      "text/plain": [
       "[{'id': 'MLB105334',\n",
       "  'name': 'BMX y Freestyle',\n",
       "  'total_items_in_this_category': 545},\n",
       " {'id': 'MLB257287', 'name': 'Caiçara', 'total_items_in_this_category': 255},\n",
       " {'id': 'MLB105343', 'name': 'Chopper', 'total_items_in_this_category': 160},\n",
       " {'id': 'MLB105339',\n",
       "  'name': 'De Passeio',\n",
       "  'total_items_in_this_category': 3314},\n",
       " {'id': 'MLB122683', 'name': 'Dobráveis', 'total_items_in_this_category': 621},\n",
       " {'id': 'MLB122855', 'name': 'Elétricas', 'total_items_in_this_category': 761},\n",
       " {'id': 'MLB1930',\n",
       "  'name': 'Mountain Bikes',\n",
       "  'total_items_in_this_category': 12032},\n",
       " {'id': 'MLB3094', 'name': 'Speed', 'total_items_in_this_category': 2698},\n",
       " {'id': 'MLB10038',\n",
       "  'name': 'Outros Tipos',\n",
       "  'total_items_in_this_category': 1981}]"
      ]
     },
     "execution_count": 6,
     "metadata": {},
     "output_type": "execute_result"
    }
   ],
   "source": [
    "ml.get_children_categories('MLB68268')"
   ]
  },
  {
   "cell_type": "markdown",
   "metadata": {},
   "source": [
    "### Subcategory level N"
   ]
  },
  {
   "cell_type": "code",
   "execution_count": 7,
   "metadata": {
    "collapsed": true
   },
   "outputs": [],
   "source": [
    "#ml.get_children_categories('MLBXXXXX')"
   ]
  },
  {
   "cell_type": "code",
   "execution_count": null,
   "metadata": {
    "collapsed": true
   },
   "outputs": [],
   "source": []
  },
  {
   "cell_type": "code",
   "execution_count": null,
   "metadata": {
    "collapsed": true
   },
   "outputs": [],
   "source": []
  },
  {
   "cell_type": "code",
   "execution_count": null,
   "metadata": {
    "collapsed": true
   },
   "outputs": [],
   "source": []
  },
  {
   "cell_type": "code",
   "execution_count": null,
   "metadata": {
    "collapsed": true
   },
   "outputs": [],
   "source": []
  },
  {
   "cell_type": "markdown",
   "metadata": {},
   "source": [
    "### (*Off-topic*) Testing simple search in categories\n",
    "To be used later on..."
   ]
  },
  {
   "cell_type": "code",
   "execution_count": 8,
   "metadata": {
    "collapsed": false
   },
   "outputs": [
    {
     "data": {
      "text/plain": [
       "'Esportes e Fitness'"
      ]
     },
     "execution_count": 8,
     "metadata": {},
     "output_type": "execute_result"
    }
   ],
   "source": [
    "# Testing search within array of dicts\n",
    "search = 'esportes'\n",
    "match = next((item for item in categories if search in item['name'].lower()), None)\n",
    "\n",
    "category_id = match['id']\n",
    "category_name = match['name']\n",
    "category_name"
   ]
  }
 ],
 "metadata": {
  "kernelspec": {
   "display_name": "Python 3",
   "language": "python",
   "name": "python3"
  },
  "language_info": {
   "codemirror_mode": {
    "name": "ipython",
    "version": 3
   },
   "file_extension": ".py",
   "mimetype": "text/x-python",
   "name": "python",
   "nbconvert_exporter": "python",
   "pygments_lexer": "ipython3",
   "version": "3.5.0"
  }
 },
 "nbformat": 4,
 "nbformat_minor": 0
}
