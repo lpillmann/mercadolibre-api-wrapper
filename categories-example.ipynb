{
 "cells": [
  {
   "cell_type": "code",
   "execution_count": 1,
   "metadata": {
    "collapsed": true
   },
   "outputs": [],
   "source": [
    "import mercadolibre as ml\n",
    "import pandas as pd"
   ]
  },
  {
   "cell_type": "code",
   "execution_count": 2,
   "metadata": {
    "collapsed": false
   },
   "outputs": [
    {
     "data": {
      "text/plain": [
       "[{'id': 'MLB5672', 'name': 'Acessórios para Veículos'},\n",
       " {'id': 'MLB1499', 'name': 'Agro, Indústria e Comércio'},\n",
       " {'id': 'MLB1071', 'name': 'Animais'},\n",
       " {'id': 'MLB1367', 'name': 'Antiguidades'},\n",
       " {'id': 'MLB1368', 'name': 'Arte e Artesanato'},\n",
       " {'id': 'MLB1384', 'name': 'Bebês'},\n",
       " {'id': 'MLB1132', 'name': 'Brinquedos e Hobbies'},\n",
       " {'id': 'MLB1430', 'name': 'Calçados, Roupas e Bolsas'},\n",
       " {'id': 'MLB1743', 'name': 'Carros, Motos e Outros'},\n",
       " {'id': 'MLB1574', 'name': 'Casa, Móveis e Decoração'},\n",
       " {'id': 'MLB1051', 'name': 'Celulares e Telefones'},\n",
       " {'id': 'MLB1798', 'name': 'Coleções e Comics'},\n",
       " {'id': 'MLB1039', 'name': 'Câmeras e Acessórios'},\n",
       " {'id': 'MLB5726', 'name': 'Eletrodomésticos'},\n",
       " {'id': 'MLB1000', 'name': 'Eletrônicos, Áudio e Vídeo'},\n",
       " {'id': 'MLB1276', 'name': 'Esportes e Fitness'},\n",
       " {'id': 'MLB3281', 'name': 'Filmes e Seriados'},\n",
       " {'id': 'MLB1144', 'name': 'Games'},\n",
       " {'id': 'MLB1459', 'name': 'Imóveis'},\n",
       " {'id': 'MLB1648', 'name': 'Informática'},\n",
       " {'id': 'MLB218519', 'name': 'Ingressos'},\n",
       " {'id': 'MLB1182', 'name': 'Instrumentos Musicais'},\n",
       " {'id': 'MLB3937', 'name': 'Joias e Relógios'},\n",
       " {'id': 'MLB1196', 'name': 'Livros'},\n",
       " {'id': 'MLB1168', 'name': 'Música'},\n",
       " {'id': 'MLB1246', 'name': 'Saúde e Beleza'},\n",
       " {'id': 'MLB1540', 'name': 'Serviços'},\n",
       " {'id': 'MLB1953', 'name': 'Mais Categorias'}]"
      ]
     },
     "execution_count": 2,
     "metadata": {},
     "output_type": "execute_result"
    }
   ],
   "source": [
    "categories = ml.get_categories()\n",
    "categories"
   ]
  },
  {
   "cell_type": "code",
   "execution_count": 5,
   "metadata": {
    "collapsed": false
   },
   "outputs": [
    {
     "data": {
      "text/plain": [
       "'Instrumentos Musicais'"
      ]
     },
     "execution_count": 5,
     "metadata": {},
     "output_type": "execute_result"
    }
   ],
   "source": [
    "# Testing search within array of dicts\n",
    "search = 'instrumento'\n",
    "match = next((item for item in categories if search in item['name'].lower()), None)\n",
    "\n",
    "category_id = match['id']\n",
    "category_name = match['name']\n",
    "category_name"
   ]
  },
  {
   "cell_type": "code",
   "execution_count": 6,
   "metadata": {
    "collapsed": false
   },
   "outputs": [
    {
     "data": {
      "text/plain": [
       "[{'id': 'MLB7822',\n",
       "  'name': 'Acessórios Musicais',\n",
       "  'total_items_in_this_category': 163697},\n",
       " {'id': 'MLB8055', 'name': 'Acordeons', 'total_items_in_this_category': 3378},\n",
       " {'id': 'MLB3011',\n",
       "  'name': 'Amplificadores',\n",
       "  'total_items_in_this_category': 14745},\n",
       " {'id': 'MLB4467',\n",
       "  'name': 'Áudio Profissional',\n",
       "  'total_items_in_this_category': 122486},\n",
       " {'id': 'MLB3018', 'name': 'Baixos', 'total_items_in_this_category': 19086},\n",
       " {'id': 'MLB3004',\n",
       "  'name': 'Baterias e Percussão',\n",
       "  'total_items_in_this_category': 64133},\n",
       " {'id': 'MLB5347',\n",
       "  'name': 'Cavaquinhos',\n",
       "  'total_items_in_this_category': 3260},\n",
       " {'id': 'MLB4474',\n",
       "  'name': 'Equipamento para DJ',\n",
       "  'total_items_in_this_category': 18667},\n",
       " {'id': 'MLB2987', 'name': 'Guitarras', 'total_items_in_this_category': 87432},\n",
       " {'id': 'MLB4479',\n",
       "  'name': 'Metrônomos e Afinadores',\n",
       "  'total_items_in_this_category': 3756},\n",
       " {'id': 'MLB3007',\n",
       "  'name': 'Pedais e Efeitos de Som',\n",
       "  'total_items_in_this_category': 30855},\n",
       " {'id': 'MLB3022',\n",
       "  'name': 'Pianos, Órgãos e Teclados',\n",
       "  'total_items_in_this_category': 29042},\n",
       " {'id': 'MLB3771', 'name': 'Saxofones', 'total_items_in_this_category': 15883},\n",
       " {'id': 'MLB5356', 'name': 'Violinos', 'total_items_in_this_category': 10388},\n",
       " {'id': 'MLB3015', 'name': 'Violões', 'total_items_in_this_category': 45426},\n",
       " {'id': 'MLB3014', 'name': 'Outros', 'total_items_in_this_category': 8983},\n",
       " {'id': 'MLB4464',\n",
       "  'name': 'Outros Instrumentos de Corda',\n",
       "  'total_items_in_this_category': 6291},\n",
       " {'id': 'MLB3005',\n",
       "  'name': 'Outros Instrumentos de Sopro',\n",
       "  'total_items_in_this_category': 17602}]"
      ]
     },
     "execution_count": 6,
     "metadata": {},
     "output_type": "execute_result"
    }
   ],
   "source": [
    "# Gets categories one level below\n",
    "ml.get_children_categories(category_id)"
   ]
  },
  {
   "cell_type": "code",
   "execution_count": 18,
   "metadata": {
    "collapsed": false
   },
   "outputs": [
    {
     "data": {
      "text/plain": [
       "[{'id': 'MLB29326', 'name': 'Condor', 'total_items_in_this_category': 94},\n",
       " {'id': 'MLB29342', 'name': 'Crafter', 'total_items_in_this_category': 227},\n",
       " {'id': 'MLB6814', 'name': 'Eagle', 'total_items_in_this_category': 343},\n",
       " {'id': 'MLB29279', 'name': 'Giannini', 'total_items_in_this_category': 4698},\n",
       " {'id': 'MLB29327', 'name': 'Phoenix', 'total_items_in_this_category': 66},\n",
       " {'id': 'MLB29317', 'name': 'Tagima', 'total_items_in_this_category': 991},\n",
       " {'id': 'MLB29278', 'name': 'Takamine', 'total_items_in_this_category': 696},\n",
       " {'id': 'MLB29324', 'name': 'Yamaha', 'total_items_in_this_category': 578},\n",
       " {'id': 'MLB29334', 'name': 'Outros', 'total_items_in_this_category': 3125}]"
      ]
     },
     "execution_count": 18,
     "metadata": {},
     "output_type": "execute_result"
    }
   ],
   "source": [
    "ml.get_children_categories('MLB3017')"
   ]
  },
  {
   "cell_type": "code",
   "execution_count": null,
   "metadata": {
    "collapsed": true
   },
   "outputs": [],
   "source": []
  }
 ],
 "metadata": {
  "kernelspec": {
   "display_name": "Python 3",
   "language": "python",
   "name": "python3"
  },
  "language_info": {
   "codemirror_mode": {
    "name": "ipython",
    "version": 3
   },
   "file_extension": ".py",
   "mimetype": "text/x-python",
   "name": "python",
   "nbconvert_exporter": "python",
   "pygments_lexer": "ipython3",
   "version": "3.5.0"
  }
 },
 "nbformat": 4,
 "nbformat_minor": 0
}
