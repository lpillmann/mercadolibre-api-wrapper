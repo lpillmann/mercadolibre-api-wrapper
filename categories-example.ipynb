{
 "cells": [
  {
   "cell_type": "code",
   "execution_count": 2,
   "metadata": {
    "collapsed": true
   },
   "outputs": [],
   "source": [
    "import mercadolibre as ml\n",
    "import pandas as pd"
   ]
  },
  {
   "cell_type": "code",
   "execution_count": 3,
   "metadata": {
    "collapsed": false
   },
   "outputs": [
    {
     "data": {
      "text/plain": [
       "[{'id': 'MLB5672', 'name': 'Acessórios para Veículos'},\n",
       " {'id': 'MLB1499', 'name': 'Agro, Indústria e Comércio'},\n",
       " {'id': 'MLB1071', 'name': 'Animais'},\n",
       " {'id': 'MLB1367', 'name': 'Antiguidades'},\n",
       " {'id': 'MLB1368', 'name': 'Arte e Artesanato'},\n",
       " {'id': 'MLB1384', 'name': 'Bebês'},\n",
       " {'id': 'MLB1132', 'name': 'Brinquedos e Hobbies'},\n",
       " {'id': 'MLB1430', 'name': 'Calçados, Roupas e Bolsas'},\n",
       " {'id': 'MLB1743', 'name': 'Carros, Motos e Outros'},\n",
       " {'id': 'MLB1574', 'name': 'Casa, Móveis e Decoração'},\n",
       " {'id': 'MLB1051', 'name': 'Celulares e Telefones'},\n",
       " {'id': 'MLB1798', 'name': 'Coleções e Comics'},\n",
       " {'id': 'MLB1039', 'name': 'Câmeras e Acessórios'},\n",
       " {'id': 'MLB5726', 'name': 'Eletrodomésticos'},\n",
       " {'id': 'MLB1000', 'name': 'Eletrônicos, Áudio e Vídeo'},\n",
       " {'id': 'MLB1276', 'name': 'Esportes e Fitness'},\n",
       " {'id': 'MLB3281', 'name': 'Filmes e Seriados'},\n",
       " {'id': 'MLB1144', 'name': 'Games'},\n",
       " {'id': 'MLB1459', 'name': 'Imóveis'},\n",
       " {'id': 'MLB1648', 'name': 'Informática'},\n",
       " {'id': 'MLB218519', 'name': 'Ingressos'},\n",
       " {'id': 'MLB1182', 'name': 'Instrumentos Musicais'},\n",
       " {'id': 'MLB3937', 'name': 'Joias e Relógios'},\n",
       " {'id': 'MLB1196', 'name': 'Livros'},\n",
       " {'id': 'MLB1168', 'name': 'Música'},\n",
       " {'id': 'MLB1246', 'name': 'Saúde e Beleza'},\n",
       " {'id': 'MLB1540', 'name': 'Serviços'},\n",
       " {'id': 'MLB1953', 'name': 'Mais Categorias'}]"
      ]
     },
     "execution_count": 3,
     "metadata": {},
     "output_type": "execute_result"
    }
   ],
   "source": [
    "categories = ml.get_categories()\n",
    "categories"
   ]
  },
  {
   "cell_type": "code",
   "execution_count": 15,
   "metadata": {
    "collapsed": false
   },
   "outputs": [
    {
     "data": {
      "text/plain": [
       "'Esportes e Fitness'"
      ]
     },
     "execution_count": 15,
     "metadata": {},
     "output_type": "execute_result"
    }
   ],
   "source": [
    "# Testing search within array of dicts\n",
    "search = 'esportes'\n",
    "match = next((item for item in categories if search in item['name'].lower()), None)\n",
    "\n",
    "category_id = match['id']\n",
    "category_name = match['name']\n",
    "category_name"
   ]
  },
  {
   "cell_type": "code",
   "execution_count": 16,
   "metadata": {
    "collapsed": false
   },
   "outputs": [
    {
     "data": {
      "text/plain": [
       "[{'id': 'MLB2480',\n",
       "  'name': 'Artes Marciais e Boxe',\n",
       "  'total_items_in_this_category': 34026},\n",
       " {'id': 'MLB223366', 'name': 'Badminton', 'total_items_in_this_category': 474},\n",
       " {'id': 'MLB10539', 'name': 'Baseball', 'total_items_in_this_category': 1163},\n",
       " {'id': 'MLB1309', 'name': 'Basquete', 'total_items_in_this_category': 4709},\n",
       " {'id': 'MLB1362', 'name': 'Camping', 'total_items_in_this_category': 131452},\n",
       " {'id': 'MLB1292', 'name': 'Ciclismo', 'total_items_in_this_category': 272195},\n",
       " {'id': 'MLB223498', 'name': 'Equitação', 'total_items_in_this_category': 312},\n",
       " {'id': 'MLB1277',\n",
       "  'name': 'Esportes Aquáticos',\n",
       "  'total_items_in_this_category': 51271},\n",
       " {'id': 'MLB1355',\n",
       "  'name': 'Esportes de Aventura e Ação',\n",
       "  'total_items_in_this_category': 86373},\n",
       " {'id': 'MLB1338',\n",
       "  'name': 'Fitness e Musculação',\n",
       "  'total_items_in_this_category': 119864},\n",
       " {'id': 'MLB1286', 'name': 'Futebol', 'total_items_in_this_category': 185780},\n",
       " {'id': 'MLB1302',\n",
       "  'name': 'Futebol Americano',\n",
       "  'total_items_in_this_category': 3328},\n",
       " {'id': 'MLB9900', 'name': 'Golfe', 'total_items_in_this_category': 1575},\n",
       " {'id': 'MLB251434', 'name': 'Hockey', 'total_items_in_this_category': 116},\n",
       " {'id': 'MLB1293',\n",
       "  'name': 'Patins e Skates',\n",
       "  'total_items_in_this_category': 35898},\n",
       " {'id': 'MLB6796', 'name': 'Pesca', 'total_items_in_this_category': 127046},\n",
       " {'id': 'MLB80357',\n",
       "  'name': 'Protetores Esportivos',\n",
       "  'total_items_in_this_category': 17483},\n",
       " {'id': 'MLB122102',\n",
       "  'name': 'Suplementos',\n",
       "  'total_items_in_this_category': 237477},\n",
       " {'id': 'MLB3900', 'name': 'Tênis', 'total_items_in_this_category': 295777},\n",
       " {'id': 'MLB10536',\n",
       "  'name': 'Tênis de Mesa',\n",
       "  'total_items_in_this_category': 3330},\n",
       " {'id': 'MLB1322',\n",
       "  'name': 'Tênis e Squash',\n",
       "  'total_items_in_this_category': 14053},\n",
       " {'id': 'MLB1333', 'name': 'Vôlei', 'total_items_in_this_category': 2994},\n",
       " {'id': 'MLB1358', 'name': 'Outros', 'total_items_in_this_category': 11447}]"
      ]
     },
     "execution_count": 16,
     "metadata": {},
     "output_type": "execute_result"
    }
   ],
   "source": [
    "# Gets categories one level below\n",
    "ml.get_children_categories(category_id)"
   ]
  },
  {
   "cell_type": "code",
   "execution_count": 17,
   "metadata": {
    "collapsed": false
   },
   "outputs": [
    {
     "data": {
      "text/plain": [
       "[{'id': 'MLB6790',\n",
       "  'name': 'Acessórios ',\n",
       "  'total_items_in_this_category': 93105},\n",
       " {'id': 'MLB180269',\n",
       "  'name': 'Bicicletas',\n",
       "  'total_items_in_this_category': 28132},\n",
       " {'id': 'MLB67974', 'name': 'DVDs', 'total_items_in_this_category': 772},\n",
       " {'id': 'MLB106739', 'name': 'Kit Motor', 'total_items_in_this_category': 529},\n",
       " {'id': 'MLB1934', 'name': 'Peças ', 'total_items_in_this_category': 113004},\n",
       " {'id': 'MLB1935', 'name': 'Roupas', 'total_items_in_this_category': 33114},\n",
       " {'id': 'MLB1936', 'name': 'Outros', 'total_items_in_this_category': 3539}]"
      ]
     },
     "execution_count": 17,
     "metadata": {},
     "output_type": "execute_result"
    }
   ],
   "source": [
    "ml.get_children_categories('MLB1292')"
   ]
  },
  {
   "cell_type": "code",
   "execution_count": 14,
   "metadata": {
    "collapsed": false
   },
   "outputs": [
    {
     "data": {
      "text/plain": [
       "[{'id': 'MLB54182',\n",
       "  'name': 'Bases e Suportes',\n",
       "  'total_items_in_this_category': 3440},\n",
       " {'id': 'MLB63274',\n",
       "  'name': 'Coolers Portáteis',\n",
       "  'total_items_in_this_category': 6111},\n",
       " {'id': 'MLB54183',\n",
       "  'name': 'Fans Internos',\n",
       "  'total_items_in_this_category': 31497},\n",
       " {'id': 'MLB54184', 'name': 'Outros', 'total_items_in_this_category': 4676}]"
      ]
     },
     "execution_count": 14,
     "metadata": {},
     "output_type": "execute_result"
    }
   ],
   "source": [
    "ml.get_children_categories('MLB10345')"
   ]
  },
  {
   "cell_type": "code",
   "execution_count": null,
   "metadata": {
    "collapsed": true
   },
   "outputs": [],
   "source": []
  }
 ],
 "metadata": {
  "kernelspec": {
   "display_name": "Python 3",
   "language": "python",
   "name": "python3"
  },
  "language_info": {
   "codemirror_mode": {
    "name": "ipython",
    "version": 3
   },
   "file_extension": ".py",
   "mimetype": "text/x-python",
   "name": "python",
   "nbconvert_exporter": "python",
   "pygments_lexer": "ipython3",
   "version": "3.5.0"
  }
 },
 "nbformat": 4,
 "nbformat_minor": 0
}
